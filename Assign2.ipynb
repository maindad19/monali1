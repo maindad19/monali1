{
 "cells": [
  {
   "cell_type": "code",
   "execution_count": null,
   "id": "1add1a3f-ae62-4d44-bf4e-84a05f549392",
   "metadata": {},
   "outputs": [],
   "source": [
    "import pandas as pd\n",
    "import numpy as np\n",
    "import numpy as np\n",
    "\n",
    "data = {\n",
    "    'Visitor_ID': [f'V{1000 + i}' for i in range(20)],\n",
    "    'Name': ['RAVI KUMAR SHARMA', 'PRIYA ANAND RAO', 'SNEHA SINGH', 'ARJUN MEHRA', 'RAHUL KUMAR SINGH',\n",
    "             'NEHA PATEL', 'ANURAG SAXENA', 'TANVI SHARMA', 'SAMRUDHI BHAGAT', 'MAYANK RAJPUT',\n",
    "             'RAKHI TIWARI', 'HARISH KUMAR', 'VINAY GUPTA', 'PRIYANKA GARG', 'RITIKA JAIN',\n",
    "             'NITIN KUMAR', 'SAYALI GOSWAMI', 'ANAMIKA MEHRA', 'SHIVANI AGARWAL', 'ROHIT JAIN'],\n",
    "    'Age': [29, 24, 28, 22, np.nan, 31, 27, 25, 22, 26, 23, 30, 28, 24, 25, 27, 22, 23, 29, 31],\n",
    "    'Ticket_Price': [1200, 900, 600, 1100, 750, 800, np.nan, 950, 1000, 1050, 850, 700, 950, 1200, 1300, \n",
    "                     950, 900, 1000, 1100, np.nan],\n",
    "    'Check_In_Time': ['09:30 AM', '10:15 AM', '11:00 AM', '11:45 AM', '12:00 PM', '02:00 PM', '02:15 PM', \n",
    "                      '03:00 PM', '03:30 PM', '04:00 PM', '10:00 AM', '11:15 AM', '01:30 PM', '02:45 PM',\n",
    "                      '04:30 PM', '12:00 PM', '01:00 PM', '02:30 PM', '03:15 PM', np.nan],\n",
    "    'City': ['Kolkata', 'Hyderabad', 'Chandigarh', 'Lucknow', 'Pune', 'Bhubaneswar', 'Delhi', 'Mumbai', \n",
    "             'Nagpur', 'Chennai', 'Bhopal', 'Bangalore', 'Indore', 'Jaipur', 'Agra', 'Vadodara', 'Surat', \n",
    "             'Amritsar', 'Coimbatore', 'Patna'],\n",
    "    'State': ['West Bengal', 'Telangana', 'Punjab', 'Uttar Pradesh', 'Maharashtra', 'Odisha', 'Delhi', \n",
    "              'Maharashtra', 'Maharashtra', 'Tamil Nadu', 'Madhya Pradesh', 'Karnataka', 'Madhya Pradesh', \n",
    "              'Rajasthan', 'Uttar Pradesh', 'Gujarat', 'Gujarat', 'Punjab', 'Tamil Nadu', 'Bihar']\n",
    "}\n",
    "df = pd.DataFrame(data)\n",
    "df.info()"
   ]
  }
 ],
 "metadata": {
  "kernelspec": {
   "display_name": "Python [conda env:base] *",
   "language": "python",
   "name": "conda-base-py"
  },
  "language_info": {
   "codemirror_mode": {
    "name": "ipython",
    "version": 3
   },
   "file_extension": ".py",
   "mimetype": "text/x-python",
   "name": "python",
   "nbconvert_exporter": "python",
   "pygments_lexer": "ipython3",
   "version": "3.12.7"
  }
 },
 "nbformat": 4,
 "nbformat_minor": 5
}
